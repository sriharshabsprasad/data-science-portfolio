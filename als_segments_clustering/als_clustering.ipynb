{
 "cells": [
  {
   "cell_type": "code",
   "execution_count": 1,
   "metadata": {},
   "outputs": [],
   "source": [
    "# Load the libraries\n",
    "import numpy as np\n",
    "import pandas as pd\n",
    "import matplotlib.pyplot as plt\n",
    "import seaborn as sns\n",
    "\n",
    "from sklearn.cluster import KMeans\n",
    "from sklearn.metrics import silhouette_score\n",
    "from sklearn.preprocessing import StandardScaler\n",
    "from sklearn.decomposition import PCA\n",
    "\n",
    "import warnings\n",
    "warnings.filterwarnings(\"ignore\") \n"
   ]
  },
  {
   "cell_type": "code",
   "execution_count": null,
   "metadata": {},
   "outputs": [],
   "source": []
  },
  {
   "cell_type": "markdown",
   "metadata": {},
   "source": [
    "# Data Acquisition and Loading"
   ]
  },
  {
   "cell_type": "code",
   "execution_count": 3,
   "metadata": {},
   "outputs": [],
   "source": [
    "# read a csv file and create a dataframe\n",
    "als_data = pd.read_csv(\"data/als_data.csv\")"
   ]
  },
  {
   "cell_type": "code",
   "execution_count": 4,
   "metadata": {},
   "outputs": [
    {
     "name": "stdout",
     "output_type": "stream",
     "text": [
      "First ten rows of the dataset:\n"
     ]
    },
    {
     "data": {
      "text/html": [
       "<div>\n",
       "<style scoped>\n",
       "    .dataframe tbody tr th:only-of-type {\n",
       "        vertical-align: middle;\n",
       "    }\n",
       "\n",
       "    .dataframe tbody tr th {\n",
       "        vertical-align: top;\n",
       "    }\n",
       "\n",
       "    .dataframe thead th {\n",
       "        text-align: right;\n",
       "    }\n",
       "</style>\n",
       "<table border=\"1\" class=\"dataframe\">\n",
       "  <thead>\n",
       "    <tr style=\"text-align: right;\">\n",
       "      <th></th>\n",
       "      <th>ID</th>\n",
       "      <th>Age_mean</th>\n",
       "      <th>Albumin_max</th>\n",
       "      <th>Albumin_median</th>\n",
       "      <th>Albumin_min</th>\n",
       "      <th>Albumin_range</th>\n",
       "      <th>ALSFRS_slope</th>\n",
       "      <th>ALSFRS_Total_max</th>\n",
       "      <th>ALSFRS_Total_median</th>\n",
       "      <th>ALSFRS_Total_min</th>\n",
       "      <th>...</th>\n",
       "      <th>Sodium_min</th>\n",
       "      <th>Sodium_range</th>\n",
       "      <th>SubjectID</th>\n",
       "      <th>trunk_max</th>\n",
       "      <th>trunk_median</th>\n",
       "      <th>trunk_min</th>\n",
       "      <th>trunk_range</th>\n",
       "      <th>Urine.Ph_max</th>\n",
       "      <th>Urine.Ph_median</th>\n",
       "      <th>Urine.Ph_min</th>\n",
       "    </tr>\n",
       "  </thead>\n",
       "  <tbody>\n",
       "    <tr>\n",
       "      <th>0</th>\n",
       "      <td>1</td>\n",
       "      <td>65</td>\n",
       "      <td>57.0</td>\n",
       "      <td>40.5</td>\n",
       "      <td>38.0</td>\n",
       "      <td>0.066202</td>\n",
       "      <td>-0.965608</td>\n",
       "      <td>30</td>\n",
       "      <td>28.0</td>\n",
       "      <td>22</td>\n",
       "      <td>...</td>\n",
       "      <td>143.0</td>\n",
       "      <td>0.017422</td>\n",
       "      <td>533</td>\n",
       "      <td>8</td>\n",
       "      <td>7.0</td>\n",
       "      <td>7</td>\n",
       "      <td>0.002646</td>\n",
       "      <td>6.0</td>\n",
       "      <td>6.0</td>\n",
       "      <td>6.0</td>\n",
       "    </tr>\n",
       "    <tr>\n",
       "      <th>1</th>\n",
       "      <td>2</td>\n",
       "      <td>48</td>\n",
       "      <td>45.0</td>\n",
       "      <td>41.0</td>\n",
       "      <td>39.0</td>\n",
       "      <td>0.010453</td>\n",
       "      <td>-0.921717</td>\n",
       "      <td>37</td>\n",
       "      <td>33.0</td>\n",
       "      <td>21</td>\n",
       "      <td>...</td>\n",
       "      <td>136.0</td>\n",
       "      <td>0.010453</td>\n",
       "      <td>649</td>\n",
       "      <td>8</td>\n",
       "      <td>7.0</td>\n",
       "      <td>5</td>\n",
       "      <td>0.005386</td>\n",
       "      <td>7.0</td>\n",
       "      <td>5.0</td>\n",
       "      <td>5.0</td>\n",
       "    </tr>\n",
       "    <tr>\n",
       "      <th>2</th>\n",
       "      <td>3</td>\n",
       "      <td>38</td>\n",
       "      <td>50.0</td>\n",
       "      <td>47.0</td>\n",
       "      <td>45.0</td>\n",
       "      <td>0.008929</td>\n",
       "      <td>-0.914787</td>\n",
       "      <td>24</td>\n",
       "      <td>14.0</td>\n",
       "      <td>10</td>\n",
       "      <td>...</td>\n",
       "      <td>140.0</td>\n",
       "      <td>0.008929</td>\n",
       "      <td>1234</td>\n",
       "      <td>5</td>\n",
       "      <td>0.0</td>\n",
       "      <td>0</td>\n",
       "      <td>0.008929</td>\n",
       "      <td>6.0</td>\n",
       "      <td>5.0</td>\n",
       "      <td>5.0</td>\n",
       "    </tr>\n",
       "    <tr>\n",
       "      <th>3</th>\n",
       "      <td>4</td>\n",
       "      <td>63</td>\n",
       "      <td>47.0</td>\n",
       "      <td>44.0</td>\n",
       "      <td>41.0</td>\n",
       "      <td>0.012111</td>\n",
       "      <td>-0.598361</td>\n",
       "      <td>30</td>\n",
       "      <td>29.0</td>\n",
       "      <td>24</td>\n",
       "      <td>...</td>\n",
       "      <td>138.0</td>\n",
       "      <td>0.012469</td>\n",
       "      <td>2492</td>\n",
       "      <td>5</td>\n",
       "      <td>5.0</td>\n",
       "      <td>3</td>\n",
       "      <td>0.004988</td>\n",
       "      <td>7.0</td>\n",
       "      <td>6.0</td>\n",
       "      <td>5.0</td>\n",
       "    </tr>\n",
       "    <tr>\n",
       "      <th>4</th>\n",
       "      <td>5</td>\n",
       "      <td>63</td>\n",
       "      <td>47.0</td>\n",
       "      <td>45.5</td>\n",
       "      <td>42.0</td>\n",
       "      <td>0.008292</td>\n",
       "      <td>-0.444039</td>\n",
       "      <td>32</td>\n",
       "      <td>27.5</td>\n",
       "      <td>20</td>\n",
       "      <td>...</td>\n",
       "      <td>138.0</td>\n",
       "      <td>0.008292</td>\n",
       "      <td>2956</td>\n",
       "      <td>6</td>\n",
       "      <td>4.0</td>\n",
       "      <td>1</td>\n",
       "      <td>0.008489</td>\n",
       "      <td>6.0</td>\n",
       "      <td>5.0</td>\n",
       "      <td>5.0</td>\n",
       "    </tr>\n",
       "    <tr>\n",
       "      <th>5</th>\n",
       "      <td>6</td>\n",
       "      <td>36</td>\n",
       "      <td>51.0</td>\n",
       "      <td>47.0</td>\n",
       "      <td>46.0</td>\n",
       "      <td>0.009058</td>\n",
       "      <td>-0.118353</td>\n",
       "      <td>37</td>\n",
       "      <td>34.5</td>\n",
       "      <td>27</td>\n",
       "      <td>...</td>\n",
       "      <td>137.0</td>\n",
       "      <td>0.014493</td>\n",
       "      <td>3085</td>\n",
       "      <td>8</td>\n",
       "      <td>8.0</td>\n",
       "      <td>7</td>\n",
       "      <td>0.001812</td>\n",
       "      <td>8.0</td>\n",
       "      <td>6.0</td>\n",
       "      <td>5.0</td>\n",
       "    </tr>\n",
       "    <tr>\n",
       "      <th>6</th>\n",
       "      <td>7</td>\n",
       "      <td>55</td>\n",
       "      <td>46.0</td>\n",
       "      <td>44.0</td>\n",
       "      <td>40.0</td>\n",
       "      <td>0.010850</td>\n",
       "      <td>-1.225580</td>\n",
       "      <td>34</td>\n",
       "      <td>24.0</td>\n",
       "      <td>10</td>\n",
       "      <td>...</td>\n",
       "      <td>136.0</td>\n",
       "      <td>0.016275</td>\n",
       "      <td>3551</td>\n",
       "      <td>7</td>\n",
       "      <td>5.0</td>\n",
       "      <td>2</td>\n",
       "      <td>0.009042</td>\n",
       "      <td>9.0</td>\n",
       "      <td>5.0</td>\n",
       "      <td>5.0</td>\n",
       "    </tr>\n",
       "    <tr>\n",
       "      <th>7</th>\n",
       "      <td>8</td>\n",
       "      <td>55</td>\n",
       "      <td>45.0</td>\n",
       "      <td>42.0</td>\n",
       "      <td>38.0</td>\n",
       "      <td>0.018519</td>\n",
       "      <td>-0.760417</td>\n",
       "      <td>30</td>\n",
       "      <td>27.5</td>\n",
       "      <td>20</td>\n",
       "      <td>...</td>\n",
       "      <td>139.0</td>\n",
       "      <td>0.015873</td>\n",
       "      <td>3971</td>\n",
       "      <td>5</td>\n",
       "      <td>3.0</td>\n",
       "      <td>2</td>\n",
       "      <td>0.007937</td>\n",
       "      <td>6.0</td>\n",
       "      <td>6.0</td>\n",
       "      <td>6.0</td>\n",
       "    </tr>\n",
       "    <tr>\n",
       "      <th>8</th>\n",
       "      <td>9</td>\n",
       "      <td>37</td>\n",
       "      <td>48.0</td>\n",
       "      <td>46.0</td>\n",
       "      <td>41.0</td>\n",
       "      <td>0.012681</td>\n",
       "      <td>-1.010148</td>\n",
       "      <td>35</td>\n",
       "      <td>28.5</td>\n",
       "      <td>24</td>\n",
       "      <td>...</td>\n",
       "      <td>138.0</td>\n",
       "      <td>0.014493</td>\n",
       "      <td>4390</td>\n",
       "      <td>6</td>\n",
       "      <td>3.0</td>\n",
       "      <td>2</td>\n",
       "      <td>0.007246</td>\n",
       "      <td>7.0</td>\n",
       "      <td>6.0</td>\n",
       "      <td>5.0</td>\n",
       "    </tr>\n",
       "    <tr>\n",
       "      <th>9</th>\n",
       "      <td>11</td>\n",
       "      <td>72</td>\n",
       "      <td>44.0</td>\n",
       "      <td>42.0</td>\n",
       "      <td>38.0</td>\n",
       "      <td>0.010714</td>\n",
       "      <td>-0.107861</td>\n",
       "      <td>28</td>\n",
       "      <td>25.5</td>\n",
       "      <td>23</td>\n",
       "      <td>...</td>\n",
       "      <td>132.0</td>\n",
       "      <td>0.026643</td>\n",
       "      <td>4772</td>\n",
       "      <td>3</td>\n",
       "      <td>3.0</td>\n",
       "      <td>1</td>\n",
       "      <td>0.003571</td>\n",
       "      <td>7.0</td>\n",
       "      <td>6.0</td>\n",
       "      <td>5.0</td>\n",
       "    </tr>\n",
       "  </tbody>\n",
       "</table>\n",
       "<p>10 rows × 101 columns</p>\n",
       "</div>"
      ],
      "text/plain": [
       "   ID  Age_mean  Albumin_max  Albumin_median  Albumin_min  Albumin_range  \\\n",
       "0   1        65         57.0            40.5         38.0       0.066202   \n",
       "1   2        48         45.0            41.0         39.0       0.010453   \n",
       "2   3        38         50.0            47.0         45.0       0.008929   \n",
       "3   4        63         47.0            44.0         41.0       0.012111   \n",
       "4   5        63         47.0            45.5         42.0       0.008292   \n",
       "5   6        36         51.0            47.0         46.0       0.009058   \n",
       "6   7        55         46.0            44.0         40.0       0.010850   \n",
       "7   8        55         45.0            42.0         38.0       0.018519   \n",
       "8   9        37         48.0            46.0         41.0       0.012681   \n",
       "9  11        72         44.0            42.0         38.0       0.010714   \n",
       "\n",
       "   ALSFRS_slope  ALSFRS_Total_max  ALSFRS_Total_median  ALSFRS_Total_min  ...  \\\n",
       "0     -0.965608                30                 28.0                22  ...   \n",
       "1     -0.921717                37                 33.0                21  ...   \n",
       "2     -0.914787                24                 14.0                10  ...   \n",
       "3     -0.598361                30                 29.0                24  ...   \n",
       "4     -0.444039                32                 27.5                20  ...   \n",
       "5     -0.118353                37                 34.5                27  ...   \n",
       "6     -1.225580                34                 24.0                10  ...   \n",
       "7     -0.760417                30                 27.5                20  ...   \n",
       "8     -1.010148                35                 28.5                24  ...   \n",
       "9     -0.107861                28                 25.5                23  ...   \n",
       "\n",
       "   Sodium_min  Sodium_range  SubjectID  trunk_max  trunk_median  trunk_min  \\\n",
       "0       143.0      0.017422        533          8           7.0          7   \n",
       "1       136.0      0.010453        649          8           7.0          5   \n",
       "2       140.0      0.008929       1234          5           0.0          0   \n",
       "3       138.0      0.012469       2492          5           5.0          3   \n",
       "4       138.0      0.008292       2956          6           4.0          1   \n",
       "5       137.0      0.014493       3085          8           8.0          7   \n",
       "6       136.0      0.016275       3551          7           5.0          2   \n",
       "7       139.0      0.015873       3971          5           3.0          2   \n",
       "8       138.0      0.014493       4390          6           3.0          2   \n",
       "9       132.0      0.026643       4772          3           3.0          1   \n",
       "\n",
       "   trunk_range  Urine.Ph_max  Urine.Ph_median  Urine.Ph_min  \n",
       "0     0.002646           6.0              6.0           6.0  \n",
       "1     0.005386           7.0              5.0           5.0  \n",
       "2     0.008929           6.0              5.0           5.0  \n",
       "3     0.004988           7.0              6.0           5.0  \n",
       "4     0.008489           6.0              5.0           5.0  \n",
       "5     0.001812           8.0              6.0           5.0  \n",
       "6     0.009042           9.0              5.0           5.0  \n",
       "7     0.007937           6.0              6.0           6.0  \n",
       "8     0.007246           7.0              6.0           5.0  \n",
       "9     0.003571           7.0              6.0           5.0  \n",
       "\n",
       "[10 rows x 101 columns]"
      ]
     },
     "execution_count": 4,
     "metadata": {},
     "output_type": "execute_result"
    }
   ],
   "source": [
    "# Display the top 10 rows of a dataframe\n",
    "print(\"First ten rows of the dataset:\")\n",
    "als_data.head(10)"
   ]
  },
  {
   "cell_type": "code",
   "execution_count": 5,
   "metadata": {},
   "outputs": [
    {
     "name": "stdout",
     "output_type": "stream",
     "text": [
      "Dimensions of the data frame: (2223, 101)\n"
     ]
    }
   ],
   "source": [
    "print(\"Dimensions of the data frame:\", als_data.shape)"
   ]
  },
  {
   "cell_type": "code",
   "execution_count": 6,
   "metadata": {},
   "outputs": [
    {
     "name": "stdout",
     "output_type": "stream",
     "text": [
      "<class 'pandas.core.frame.DataFrame'>\n",
      "RangeIndex: 2223 entries, 0 to 2222\n",
      "Columns: 101 entries, ID to Urine.Ph_min\n",
      "dtypes: float64(75), int64(26)\n",
      "memory usage: 1.7 MB\n"
     ]
    }
   ],
   "source": [
    "# Dsiplay information of the data\n",
    "als_data.info()"
   ]
  },
  {
   "cell_type": "code",
   "execution_count": null,
   "metadata": {},
   "outputs": [],
   "source": []
  },
  {
   "cell_type": "markdown",
   "metadata": {},
   "source": [
    "# 1. Remove any data that is not relevant to the patient’s ALS condition."
   ]
  },
  {
   "cell_type": "markdown",
   "metadata": {},
   "source": [
    "## ALS Relevant Features\n",
    "\n",
    "### ALSFRS-related features\n",
    "    - 'ALSFRS_slope', 'ALSFRS_Total_max', 'ALSFRS_Total_median', 'ALSFRS_Total_min', 'ALSFRS_Total_range'\n",
    "### Other potentially relevant Fetaures\n",
    "    - Features related to muscle strength and function -  'hands_max', 'hands_median','hands_min', 'hands_range', 'leg_max', 'leg_median','leg_min', 'leg_range', 'mouth_max', 'mouth_median','mouth_min', 'mouth_range', \n",
    "### Onset and  progression-related Fetaures\n",
    "    - 'onset_delta_mean', 'onset_site_mean'"
   ]
  },
  {
   "cell_type": "code",
   "execution_count": 7,
   "metadata": {},
   "outputs": [],
   "source": [
    "relevant_columns = ['ALSFRS_slope', 'ALSFRS_Total_max', 'ALSFRS_Total_median', 'ALSFRS_Total_min', 'ALSFRS_Total_range',\n",
    "                   'hands_max', 'hands_median','hands_min', 'hands_range', 'leg_max', 'leg_median','leg_min', 'leg_range', \n",
    "                    'mouth_max', 'mouth_median','mouth_min', 'mouth_range',\n",
    "                   'onset_delta_mean', 'onset_site_mean']\n",
    "\n",
    "# filter dataframe to select only the relevant columns from the above list\n",
    "filtered_data = als_data[relevant_columns]"
   ]
  },
  {
   "cell_type": "code",
   "execution_count": 8,
   "metadata": {},
   "outputs": [
    {
     "data": {
      "text/html": [
       "<div>\n",
       "<style scoped>\n",
       "    .dataframe tbody tr th:only-of-type {\n",
       "        vertical-align: middle;\n",
       "    }\n",
       "\n",
       "    .dataframe tbody tr th {\n",
       "        vertical-align: top;\n",
       "    }\n",
       "\n",
       "    .dataframe thead th {\n",
       "        text-align: right;\n",
       "    }\n",
       "</style>\n",
       "<table border=\"1\" class=\"dataframe\">\n",
       "  <thead>\n",
       "    <tr style=\"text-align: right;\">\n",
       "      <th></th>\n",
       "      <th>ALSFRS_slope</th>\n",
       "      <th>ALSFRS_Total_max</th>\n",
       "      <th>ALSFRS_Total_median</th>\n",
       "      <th>ALSFRS_Total_min</th>\n",
       "      <th>ALSFRS_Total_range</th>\n",
       "      <th>hands_max</th>\n",
       "      <th>hands_median</th>\n",
       "      <th>hands_min</th>\n",
       "      <th>hands_range</th>\n",
       "      <th>leg_max</th>\n",
       "      <th>leg_median</th>\n",
       "      <th>leg_min</th>\n",
       "      <th>leg_range</th>\n",
       "      <th>mouth_max</th>\n",
       "      <th>mouth_median</th>\n",
       "      <th>mouth_min</th>\n",
       "      <th>mouth_range</th>\n",
       "      <th>onset_delta_mean</th>\n",
       "      <th>onset_site_mean</th>\n",
       "    </tr>\n",
       "  </thead>\n",
       "  <tbody>\n",
       "    <tr>\n",
       "      <th>0</th>\n",
       "      <td>-0.965608</td>\n",
       "      <td>30</td>\n",
       "      <td>28.0</td>\n",
       "      <td>22</td>\n",
       "      <td>0.021164</td>\n",
       "      <td>8</td>\n",
       "      <td>7.5</td>\n",
       "      <td>6</td>\n",
       "      <td>0.005291</td>\n",
       "      <td>8</td>\n",
       "      <td>6.5</td>\n",
       "      <td>4</td>\n",
       "      <td>0.010582</td>\n",
       "      <td>5</td>\n",
       "      <td>3.5</td>\n",
       "      <td>0</td>\n",
       "      <td>0.013228</td>\n",
       "      <td>-1023</td>\n",
       "      <td>1</td>\n",
       "    </tr>\n",
       "    <tr>\n",
       "      <th>1</th>\n",
       "      <td>-0.921717</td>\n",
       "      <td>37</td>\n",
       "      <td>33.0</td>\n",
       "      <td>21</td>\n",
       "      <td>0.028725</td>\n",
       "      <td>8</td>\n",
       "      <td>6.0</td>\n",
       "      <td>6</td>\n",
       "      <td>0.003591</td>\n",
       "      <td>8</td>\n",
       "      <td>7.5</td>\n",
       "      <td>3</td>\n",
       "      <td>0.008977</td>\n",
       "      <td>9</td>\n",
       "      <td>8.0</td>\n",
       "      <td>4</td>\n",
       "      <td>0.008977</td>\n",
       "      <td>-341</td>\n",
       "      <td>1</td>\n",
       "    </tr>\n",
       "    <tr>\n",
       "      <th>2</th>\n",
       "      <td>-0.914787</td>\n",
       "      <td>24</td>\n",
       "      <td>14.0</td>\n",
       "      <td>10</td>\n",
       "      <td>0.025000</td>\n",
       "      <td>4</td>\n",
       "      <td>1.0</td>\n",
       "      <td>0</td>\n",
       "      <td>0.007143</td>\n",
       "      <td>4</td>\n",
       "      <td>3.0</td>\n",
       "      <td>2</td>\n",
       "      <td>0.003571</td>\n",
       "      <td>10</td>\n",
       "      <td>7.0</td>\n",
       "      <td>4</td>\n",
       "      <td>0.010714</td>\n",
       "      <td>-1181</td>\n",
       "      <td>1</td>\n",
       "    </tr>\n",
       "    <tr>\n",
       "      <th>3</th>\n",
       "      <td>-0.598361</td>\n",
       "      <td>30</td>\n",
       "      <td>29.0</td>\n",
       "      <td>24</td>\n",
       "      <td>0.014963</td>\n",
       "      <td>6</td>\n",
       "      <td>5.5</td>\n",
       "      <td>4</td>\n",
       "      <td>0.004988</td>\n",
       "      <td>4</td>\n",
       "      <td>3.5</td>\n",
       "      <td>2</td>\n",
       "      <td>0.004988</td>\n",
       "      <td>12</td>\n",
       "      <td>12.0</td>\n",
       "      <td>12</td>\n",
       "      <td>0.000000</td>\n",
       "      <td>-365</td>\n",
       "      <td>2</td>\n",
       "    </tr>\n",
       "    <tr>\n",
       "      <th>4</th>\n",
       "      <td>-0.444039</td>\n",
       "      <td>32</td>\n",
       "      <td>27.5</td>\n",
       "      <td>20</td>\n",
       "      <td>0.020374</td>\n",
       "      <td>8</td>\n",
       "      <td>6.5</td>\n",
       "      <td>3</td>\n",
       "      <td>0.008489</td>\n",
       "      <td>2</td>\n",
       "      <td>2.0</td>\n",
       "      <td>0</td>\n",
       "      <td>0.003396</td>\n",
       "      <td>12</td>\n",
       "      <td>12.0</td>\n",
       "      <td>12</td>\n",
       "      <td>0.000000</td>\n",
       "      <td>-1768</td>\n",
       "      <td>2</td>\n",
       "    </tr>\n",
       "  </tbody>\n",
       "</table>\n",
       "</div>"
      ],
      "text/plain": [
       "   ALSFRS_slope  ALSFRS_Total_max  ALSFRS_Total_median  ALSFRS_Total_min  \\\n",
       "0     -0.965608                30                 28.0                22   \n",
       "1     -0.921717                37                 33.0                21   \n",
       "2     -0.914787                24                 14.0                10   \n",
       "3     -0.598361                30                 29.0                24   \n",
       "4     -0.444039                32                 27.5                20   \n",
       "\n",
       "   ALSFRS_Total_range  hands_max  hands_median  hands_min  hands_range  \\\n",
       "0            0.021164          8           7.5          6     0.005291   \n",
       "1            0.028725          8           6.0          6     0.003591   \n",
       "2            0.025000          4           1.0          0     0.007143   \n",
       "3            0.014963          6           5.5          4     0.004988   \n",
       "4            0.020374          8           6.5          3     0.008489   \n",
       "\n",
       "   leg_max  leg_median  leg_min  leg_range  mouth_max  mouth_median  \\\n",
       "0        8         6.5        4   0.010582          5           3.5   \n",
       "1        8         7.5        3   0.008977          9           8.0   \n",
       "2        4         3.0        2   0.003571         10           7.0   \n",
       "3        4         3.5        2   0.004988         12          12.0   \n",
       "4        2         2.0        0   0.003396         12          12.0   \n",
       "\n",
       "   mouth_min  mouth_range  onset_delta_mean  onset_site_mean  \n",
       "0          0     0.013228             -1023                1  \n",
       "1          4     0.008977              -341                1  \n",
       "2          4     0.010714             -1181                1  \n",
       "3         12     0.000000              -365                2  \n",
       "4         12     0.000000             -1768                2  "
      ]
     },
     "execution_count": 8,
     "metadata": {},
     "output_type": "execute_result"
    }
   ],
   "source": [
    "filtered_data.head()"
   ]
  },
  {
   "cell_type": "code",
   "execution_count": 9,
   "metadata": {},
   "outputs": [
    {
     "data": {
      "text/plain": [
       "(2223, 19)"
      ]
     },
     "execution_count": 9,
     "metadata": {},
     "output_type": "execute_result"
    }
   ],
   "source": [
    "filtered_data.shape"
   ]
  },
  {
   "cell_type": "code",
   "execution_count": null,
   "metadata": {},
   "outputs": [],
   "source": []
  },
  {
   "cell_type": "markdown",
   "metadata": {},
   "source": [
    "# 2. Apply a standard scalar to the data."
   ]
  },
  {
   "cell_type": "code",
   "execution_count": 10,
   "metadata": {},
   "outputs": [],
   "source": [
    "# Fit and transform standard scalar to the data features\n",
    "scaler = StandardScaler()\n",
    "scaled_data = scaler.fit_transform(filtered_data)"
   ]
  },
  {
   "cell_type": "code",
   "execution_count": null,
   "metadata": {},
   "outputs": [],
   "source": []
  },
  {
   "cell_type": "markdown",
   "metadata": {},
   "source": [
    "# 3. Create a plot of the cluster silhouette score versus the number of clusters in a K-means cluster."
   ]
  },
  {
   "cell_type": "code",
   "execution_count": 11,
   "metadata": {},
   "outputs": [
    {
     "data": {
      "image/png": "[encoded data removed]",
      "text/plain": [
       "<Figure size 576x432 with 1 Axes>"
      ]
     },
     "metadata": {
      "needs_background": "light"
     },
     "output_type": "display_data"
    }
   ],
   "source": [
    "silhouette_scores = []\n",
    "cluster_range = range(2, 15)  # Testing clusters from 2 to 14\n",
    "\n",
    "# calculate silhouette scores\n",
    "for n_clusters in cluster_range:\n",
    "    kmeans = KMeans(n_clusters=n_clusters, random_state=101)\n",
    "    cluster_labels = kmeans.fit_predict(scaled_data)\n",
    "    silhouette_avg = silhouette_score(scaled_data, cluster_labels)\n",
    "    silhouette_scores.append(silhouette_score(scaled_data, cluster_labels))\n",
    "\n",
    "# plot Silhouette Score vs. Number of Clusters\n",
    "plt.figure(figsize=(8, 6))\n",
    "plt.plot(cluster_range, silhouette_scores, marker='o')\n",
    "plt.xlabel('Number of Clusters')\n",
    "plt.ylabel('Silhouette Score')\n",
    "plt.title('Silhouette Score vs. Number of Clusters')\n",
    "plt.show()"
   ]
  },
  {
   "cell_type": "code",
   "execution_count": null,
   "metadata": {},
   "outputs": [],
   "source": []
  },
  {
   "cell_type": "markdown",
   "metadata": {},
   "source": [
    "# 4. Use the plot created in (3) to choose on optimal number of clusters for K-means. Justify your choice.\n"
   ]
  },
  {
   "cell_type": "markdown",
   "metadata": {},
   "source": [
    "- The silhouette score peaks at 3 clusters, where the score is at its highest (around 0.23).\n",
    "- After 3 clusters, the silhouette score starts to decline consistently.\n",
    "- Hence, the optimal number of clusters is 3, as this is where the silhouette score is maximized, indicating the best clustering structure for the data."
   ]
  },
  {
   "cell_type": "code",
   "execution_count": 12,
   "metadata": {},
   "outputs": [
    {
     "name": "stdout",
     "output_type": "stream",
     "text": [
      "Optimal number of clusters: 3\n"
     ]
    }
   ],
   "source": [
    "optimal_clusters = cluster_range[np.argmax(silhouette_scores)]\n",
    "print(f\"Optimal number of clusters: {optimal_clusters}\")"
   ]
  },
  {
   "cell_type": "code",
   "execution_count": null,
   "metadata": {},
   "outputs": [],
   "source": []
  },
  {
   "cell_type": "markdown",
   "metadata": {},
   "source": [
    "# 5. Fit a K-means model to the data with the optimal number of clusters chosen in part (4)."
   ]
  },
  {
   "cell_type": "code",
   "execution_count": 13,
   "metadata": {},
   "outputs": [],
   "source": [
    "# Fit K-means clustering model with the optimal number of clusters choses in part 4\n",
    "kmeans_optimal = KMeans(n_clusters = optimal_clusters, \n",
    "                        random_state = 42)\n",
    "clusters = kmeans_optimal.fit_predict(scaled_data)"
   ]
  },
  {
   "cell_type": "code",
   "execution_count": null,
   "metadata": {},
   "outputs": [],
   "source": []
  },
  {
   "cell_type": "markdown",
   "metadata": {},
   "source": [
    "# 6. Fit a PCA transformation with two features to the scaled data."
   ]
  },
  {
   "cell_type": "code",
   "execution_count": 14,
   "metadata": {},
   "outputs": [],
   "source": [
    "# Fit & Transorm PCA with the two features to the scaled data\n",
    "pca = PCA(n_components=2)\n",
    "pca_data = pca.fit_transform(scaled_data)"
   ]
  },
  {
   "cell_type": "code",
   "execution_count": null,
   "metadata": {},
   "outputs": [],
   "source": []
  },
  {
   "cell_type": "markdown",
   "metadata": {},
   "source": [
    "# 7. Make a scatterplot the PCA transformed data coloring each point by its cluster value."
   ]
  },
  {
   "cell_type": "code",
   "execution_count": 15,
   "metadata": {},
   "outputs": [
    {
     "data": {
      "image/png": "[encoded data removed]",
      "text/plain": [
       "<Figure size 576x432 with 2 Axes>"
      ]
     },
     "metadata": {
      "needs_background": "light"
     },
     "output_type": "display_data"
    }
   ],
   "source": [
    "plt.figure(figsize=(8, 6))\n",
    "scatter = plt.scatter(pca_data[:, 0], pca_data[:, 1], c=clusters, cmap='viridis')\n",
    "plt.colorbar(scatter, label='Cluster')\n",
    "plt.xlabel('PCA Feature 1')\n",
    "plt.ylabel('PCA Feature 2')\n",
    "plt.title('PCA-Transformed Data Colored by Cluster')\n",
    "plt.show()"
   ]
  },
  {
   "cell_type": "code",
   "execution_count": null,
   "metadata": {},
   "outputs": [],
   "source": []
  },
  {
   "cell_type": "markdown",
   "metadata": {},
   "source": [
    "# 8. Summarize your results and make a conclusion."
   ]
  },
  {
   "cell_type": "code",
   "execution_count": 16,
   "metadata": {},
   "outputs": [
    {
     "name": "stdout",
     "output_type": "stream",
     "text": [
      "Summary of Results:\n",
      "Optimal clusters: 3\n",
      "Clusters successfully identified and visualized using PCA.\n",
      "Conclusion: PCA scatterplot reveals clear groupings, suggesting meaningful clusters in the ALS data.\n"
     ]
    }
   ],
   "source": [
    "print(\"Summary of Results:\")\n",
    "print(f\"Optimal clusters: {optimal_clusters}\")\n",
    "print(\"Clusters successfully identified and visualized using PCA.\")\n",
    "print(\"Conclusion: PCA scatterplot reveals clear groupings, suggesting meaningful clusters in the ALS data.\")\n"
   ]
  },
  {
   "cell_type": "markdown",
   "metadata": {},
   "source": [
    "#### Data Preprocessing:\n",
    "- Removed irrelevant features unrelated to ALS conditions.\n",
    "- Scaled the dataset using a standard scaler to normalize feature values.\n",
    "\n",
    "#### Silhouette Analysis:\n",
    "- Determined the optimal number of clusters to be 3, as the silhouette score peaked at this value.\n",
    "\n",
    "#### Clustering with K-Means:\n",
    "- Applied K-Means clustering with 3 clusters to group patients based on ALS-related features.\n",
    "\n",
    "#### Dimensionality Reduction:\n",
    "- Performed PCA transformation to reduce the dataset to two principal components while preserving the maximum variance.\n",
    "- This enabled effective visualization of clusters in two dimensions.\n",
    "\n",
    "#### Visualization:\n",
    "- Created a scatterplot of the PCA-transformed data, with each point color-coded by its assigned cluster.\n",
    "- The plot shows clear separation among the clusters, indicating that the chosen number of clusters effectively captures meaningful groupings.\n",
    "\n",
    "#### Conclusion:\n",
    "The analysis identified three distinct clusters within the ALS patient dataset, which may represent different patient subgroups based on their ALS condition. The PCA scatterplot highlights that the clustering is well-defined and interpretable in two dimensions, validating the choice of 3 clusters."
   ]
  },
  {
   "cell_type": "code",
   "execution_count": null,
   "metadata": {},
   "outputs": [],
   "source": []
  }
 ],
 "metadata": {
  "kernelspec": {
   "display_name": "Python 3",
   "language": "python",
   "name": "python3"
  },
  "language_info": {
   "codemirror_mode": {
    "name": "ipython",
    "version": 3
   },
   "file_extension": ".py",
   "mimetype": "text/x-python",
   "name": "python",
   "nbconvert_exporter": "python",
   "pygments_lexer": "ipython3",
   "version": "3.8.5"
  }
 },
 "nbformat": 4,
 "nbformat_minor": 4
}
